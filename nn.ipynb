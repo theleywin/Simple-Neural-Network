{
 "cells": [
  {
   "cell_type": "code",
   "execution_count": 9,
   "metadata": {},
   "outputs": [],
   "source": [
    "import numpy as np\n",
    "import pandas as pd\n",
    "from matplotlib import pyplot as plt\n",
    "\n",
    "data = pd.read_csv('dataset/train-1.csv')"
   ]
  },
  {
   "cell_type": "code",
   "execution_count": 10,
   "metadata": {},
   "outputs": [],
   "source": [
    "data = np.array(data)\n",
    "m, n = data.shape\n",
    "np.random.shuffle(data)\n",
    "\n",
    "data_dev = data[0:1000].T\n",
    "Y_dev = data_dev[0]\n",
    "X_dev = data_dev[1:n]\n",
    "X_dev = X_dev / 255.\n",
    "\n",
    "data_train = data[1000:m].T\n",
    "Y_train = data_train[0]\n",
    "X_train = data_train[1:n]\n",
    "X_train = X_train / 255.\n",
    "_,m_train = X_train.shape"
   ]
  },
  {
   "cell_type": "markdown",
   "metadata": {},
   "source": [
    "# Arquitectura de la Red Neuronal\n",
    "\n",
    "Nuestra red neuronal (NN) tendrá una arquitectura simple de dos capas:\n",
    "\n",
    "1. **Capa de entrada $a^{[0]}$**  \n",
    "   - Tendrá $784$ unidades, correspondientes a los $784$ **píxeles** de cada imagen de entrada de $28x28$.\n",
    "\n",
    "2. **Capa oculta $a^{[1]}$**  \n",
    "   - Tendrá **10 unidades**.  \n",
    "   - Usará **activación ReLU**.\n",
    "\n",
    "3. **Capa de salida $a^{[2]}$**  \n",
    "   - Tendrá $10$ unidades, correspondientes a las diez clases de dígitos.  \n",
    "   - Usará activación **softmax**.\n",
    "\n",
    "\n"
   ]
  },
  {
   "cell_type": "code",
   "execution_count": 11,
   "metadata": {},
   "outputs": [],
   "source": [
    "def init_params():\n",
    "    W1 = np.random.rand(10, 784) - 0.5\n",
    "    b1 = np.random.rand(10, 1) - 0.5\n",
    "    W2 = np.random.rand(10, 10) - 0.5\n",
    "    b2 = np.random.rand(10, 1) - 0.5\n",
    "    return W1, b1, W2, b2\n",
    "\n",
    "def ReLU(Z):\n",
    "    return np.maximum(Z, 0)\n",
    "\n",
    "def softmax(Z):\n",
    "    A = np.exp(Z) / sum(np.exp(Z))\n",
    "    return A\n",
    "    \n",
    "def forward_prop(W1, b1, W2, b2, X):\n",
    "    Z1 = W1.dot(X) + b1\n",
    "    A1 = ReLU(Z1)\n",
    "    Z2 = W2.dot(A1) + b2\n",
    "    A2 = softmax(Z2)\n",
    "    return Z1, A1, Z2, A2\n",
    "\n",
    "def ReLU_deriv(Z):\n",
    "    return Z > 0\n",
    "\n",
    "def one_hot(Y):\n",
    "    one_hot_Y = np.zeros((Y.size, Y.max() + 1))\n",
    "    one_hot_Y[np.arange(Y.size), Y] = 1\n",
    "    one_hot_Y = one_hot_Y.T\n",
    "    return one_hot_Y\n",
    "\n",
    "def backward_prop(Z1, A1, Z2, A2, W1, W2, X, Y):\n",
    "    one_hot_Y = one_hot(Y)\n",
    "    dZ2 = A2 - one_hot_Y\n",
    "    dW2 = 1 / m * dZ2.dot(A1.T)\n",
    "    db2 = 1 / m * np.sum(dZ2)\n",
    "    dZ1 = W2.T.dot(dZ2) * ReLU_deriv(Z1)\n",
    "    dW1 = 1 / m * dZ1.dot(X.T)\n",
    "    db1 = 1 / m * np.sum(dZ1)\n",
    "    return dW1, db1, dW2, db2\n",
    "\n",
    "def update_params(W1, b1, W2, b2, dW1, db1, dW2, db2, alpha):\n",
    "    W1 = W1 - alpha * dW1\n",
    "    b1 = b1 - alpha * db1    \n",
    "    W2 = W2 - alpha * dW2  \n",
    "    b2 = b2 - alpha * db2    \n",
    "    return W1, b1, W2, b2"
   ]
  },
  {
   "cell_type": "code",
   "execution_count": 12,
   "metadata": {},
   "outputs": [],
   "source": [
    "def get_predictions(A2):\n",
    "    return np.argmax(A2, 0)\n",
    "\n",
    "def get_accuracy(predictions, Y):\n",
    "    print(predictions, Y)\n",
    "    return np.sum(predictions == Y) / Y.size\n",
    "\n",
    "def gradient_descent(X, Y, alpha, iterations):\n",
    "    W1, b1, W2, b2 = init_params()\n",
    "    for i in range(iterations):\n",
    "        Z1, A1, Z2, A2 = forward_prop(W1, b1, W2, b2, X)\n",
    "        dW1, db1, dW2, db2 = backward_prop(Z1, A1, Z2, A2, W1, W2, X, Y)\n",
    "        W1, b1, W2, b2 = update_params(W1, b1, W2, b2, dW1, db1, dW2, db2, alpha)\n",
    "        if i % 10 == 0:\n",
    "            print(\"Iteration: \", i)\n",
    "            predictions = get_predictions(A2)\n",
    "            print(get_accuracy(predictions, Y))\n",
    "    return W1, b1, W2, b2"
   ]
  },
  {
   "cell_type": "code",
   "execution_count": 13,
   "metadata": {},
   "outputs": [
    {
     "name": "stdout",
     "output_type": "stream",
     "text": [
      "Iteration:  0\n",
      "[6 6 6 ... 6 6 6] [4 5 9 ... 1 6 8]\n",
      "0.08573170731707318\n",
      "Iteration:  10\n",
      "[6 7 6 ... 7 2 7] [4 5 9 ... 1 6 8]\n",
      "0.1714878048780488\n",
      "Iteration:  20\n",
      "[0 7 6 ... 7 2 7] [4 5 9 ... 1 6 8]\n",
      "0.2802926829268293\n",
      "Iteration:  30\n",
      "[0 7 6 ... 1 2 6] [4 5 9 ... 1 6 8]\n",
      "0.34363414634146344\n",
      "Iteration:  40\n",
      "[6 7 6 ... 1 2 8] [4 5 9 ... 1 6 8]\n",
      "0.39007317073170733\n",
      "Iteration:  50\n",
      "[6 7 6 ... 1 2 8] [4 5 9 ... 1 6 8]\n",
      "0.42453658536585365\n",
      "Iteration:  60\n",
      "[6 7 7 ... 1 2 8] [4 5 9 ... 1 6 8]\n",
      "0.4551219512195122\n",
      "Iteration:  70\n",
      "[6 7 7 ... 1 6 8] [4 5 9 ... 1 6 8]\n",
      "0.49204878048780487\n",
      "Iteration:  80\n",
      "[6 7 7 ... 1 6 8] [4 5 9 ... 1 6 8]\n",
      "0.546\n",
      "Iteration:  90\n",
      "[6 7 7 ... 1 6 8] [4 5 9 ... 1 6 8]\n",
      "0.6083414634146341\n",
      "Iteration:  100\n",
      "[6 9 7 ... 1 6 8] [4 5 9 ... 1 6 8]\n",
      "0.6462926829268293\n",
      "Iteration:  110\n",
      "[6 9 7 ... 1 6 8] [4 5 9 ... 1 6 8]\n",
      "0.6722439024390244\n",
      "Iteration:  120\n",
      "[6 9 7 ... 1 6 8] [4 5 9 ... 1 6 8]\n",
      "0.6920487804878048\n",
      "Iteration:  130\n",
      "[6 9 7 ... 1 2 8] [4 5 9 ... 1 6 8]\n",
      "0.7069756097560975\n",
      "Iteration:  140\n",
      "[4 9 7 ... 1 2 8] [4 5 9 ... 1 6 8]\n",
      "0.72\n",
      "Iteration:  150\n",
      "[4 9 7 ... 1 2 8] [4 5 9 ... 1 6 8]\n",
      "0.7318048780487805\n",
      "Iteration:  160\n",
      "[4 9 7 ... 1 2 8] [4 5 9 ... 1 6 8]\n",
      "0.7401219512195122\n",
      "Iteration:  170\n",
      "[4 9 7 ... 1 2 8] [4 5 9 ... 1 6 8]\n",
      "0.7479512195121951\n",
      "Iteration:  180\n",
      "[4 7 7 ... 1 2 8] [4 5 9 ... 1 6 8]\n",
      "0.7244634146341463\n",
      "Iteration:  190\n",
      "[4 7 7 ... 1 6 8] [4 5 9 ... 1 6 8]\n",
      "0.7329756097560975\n",
      "Iteration:  200\n",
      "[4 7 7 ... 1 6 8] [4 5 9 ... 1 6 8]\n",
      "0.7419268292682927\n",
      "Iteration:  210\n",
      "[4 7 7 ... 1 6 8] [4 5 9 ... 1 6 8]\n",
      "0.7509024390243902\n",
      "Iteration:  220\n",
      "[4 7 7 ... 1 6 8] [4 5 9 ... 1 6 8]\n",
      "0.7572682926829268\n",
      "Iteration:  230\n",
      "[4 7 7 ... 1 6 8] [4 5 9 ... 1 6 8]\n",
      "0.7638536585365854\n",
      "Iteration:  240\n",
      "[4 7 7 ... 1 6 8] [4 5 9 ... 1 6 8]\n",
      "0.7700243902439025\n",
      "Iteration:  250\n",
      "[4 7 7 ... 1 6 8] [4 5 9 ... 1 6 8]\n",
      "0.775829268292683\n",
      "Iteration:  260\n",
      "[4 7 7 ... 1 6 8] [4 5 9 ... 1 6 8]\n",
      "0.7813658536585366\n",
      "Iteration:  270\n",
      "[4 7 7 ... 1 6 8] [4 5 9 ... 1 6 8]\n",
      "0.7863414634146342\n",
      "Iteration:  280\n",
      "[4 7 7 ... 1 6 8] [4 5 9 ... 1 6 8]\n",
      "0.7914390243902439\n",
      "Iteration:  290\n",
      "[4 7 7 ... 1 6 8] [4 5 9 ... 1 6 8]\n",
      "0.7965121951219513\n",
      "Iteration:  300\n",
      "[4 7 7 ... 1 6 8] [4 5 9 ... 1 6 8]\n",
      "0.8020975609756098\n",
      "Iteration:  310\n",
      "[4 7 9 ... 1 6 8] [4 5 9 ... 1 6 8]\n",
      "0.8073414634146342\n",
      "Iteration:  320\n",
      "[4 7 9 ... 1 6 8] [4 5 9 ... 1 6 8]\n",
      "0.8127560975609756\n",
      "Iteration:  330\n",
      "[4 7 9 ... 1 6 8] [4 5 9 ... 1 6 8]\n",
      "0.8175121951219512\n",
      "Iteration:  340\n",
      "[4 7 9 ... 1 6 8] [4 5 9 ... 1 6 8]\n",
      "0.821780487804878\n",
      "Iteration:  350\n",
      "[4 7 9 ... 1 6 8] [4 5 9 ... 1 6 8]\n",
      "0.8257073170731707\n",
      "Iteration:  360\n",
      "[4 7 9 ... 1 6 8] [4 5 9 ... 1 6 8]\n",
      "0.8297073170731707\n",
      "Iteration:  370\n",
      "[4 7 9 ... 1 6 8] [4 5 9 ... 1 6 8]\n",
      "0.8329756097560975\n",
      "Iteration:  380\n",
      "[4 7 9 ... 1 6 8] [4 5 9 ... 1 6 8]\n",
      "0.8365365853658536\n",
      "Iteration:  390\n",
      "[4 7 9 ... 1 6 8] [4 5 9 ... 1 6 8]\n",
      "0.8399512195121951\n",
      "Iteration:  400\n",
      "[4 7 9 ... 1 6 8] [4 5 9 ... 1 6 8]\n",
      "0.8423170731707317\n",
      "Iteration:  410\n",
      "[4 7 9 ... 1 6 8] [4 5 9 ... 1 6 8]\n",
      "0.8446585365853658\n",
      "Iteration:  420\n",
      "[4 7 9 ... 1 6 8] [4 5 9 ... 1 6 8]\n",
      "0.8465609756097561\n",
      "Iteration:  430\n",
      "[4 7 9 ... 1 6 8] [4 5 9 ... 1 6 8]\n",
      "0.8486585365853658\n",
      "Iteration:  440\n",
      "[4 7 9 ... 1 6 8] [4 5 9 ... 1 6 8]\n",
      "0.8505609756097561\n",
      "Iteration:  450\n",
      "[4 4 9 ... 1 6 8] [4 5 9 ... 1 6 8]\n",
      "0.8522682926829268\n",
      "Iteration:  460\n",
      "[4 4 9 ... 1 6 8] [4 5 9 ... 1 6 8]\n",
      "0.8536585365853658\n",
      "Iteration:  470\n",
      "[4 4 9 ... 1 6 8] [4 5 9 ... 1 6 8]\n",
      "0.855609756097561\n",
      "Iteration:  480\n",
      "[4 4 9 ... 1 6 8] [4 5 9 ... 1 6 8]\n",
      "0.857\n",
      "Iteration:  490\n",
      "[4 4 9 ... 1 6 8] [4 5 9 ... 1 6 8]\n",
      "0.8584634146341463\n",
      "Iteration:  500\n",
      "[4 4 9 ... 1 6 8] [4 5 9 ... 1 6 8]\n",
      "0.8605121951219512\n",
      "Iteration:  510\n",
      "[4 4 9 ... 1 6 8] [4 5 9 ... 1 6 8]\n",
      "0.8616829268292683\n",
      "Iteration:  520\n",
      "[4 4 9 ... 1 6 8] [4 5 9 ... 1 6 8]\n",
      "0.8632195121951219\n",
      "Iteration:  530\n",
      "[4 4 9 ... 1 6 8] [4 5 9 ... 1 6 8]\n",
      "0.8642682926829268\n",
      "Iteration:  540\n",
      "[4 4 9 ... 1 6 8] [4 5 9 ... 1 6 8]\n",
      "0.8654390243902439\n",
      "Iteration:  550\n",
      "[4 4 9 ... 1 6 8] [4 5 9 ... 1 6 8]\n",
      "0.8665365853658537\n",
      "Iteration:  560\n",
      "[4 4 9 ... 1 6 8] [4 5 9 ... 1 6 8]\n",
      "0.8681219512195122\n",
      "Iteration:  570\n",
      "[4 4 9 ... 1 6 8] [4 5 9 ... 1 6 8]\n",
      "0.8693414634146341\n",
      "Iteration:  580\n",
      "[4 4 9 ... 1 6 8] [4 5 9 ... 1 6 8]\n",
      "0.8708292682926829\n",
      "Iteration:  590\n",
      "[4 4 9 ... 1 6 8] [4 5 9 ... 1 6 8]\n",
      "0.8715853658536585\n"
     ]
    }
   ],
   "source": [
    "W1, b1, W2, b2 = gradient_descent(X_train, Y_train, 0.2, 600)"
   ]
  },
  {
   "cell_type": "code",
   "execution_count": 14,
   "metadata": {},
   "outputs": [],
   "source": [
    "def make_predictions(X, W1, b1, W2, b2):\n",
    "    _, _, _, A2 = forward_prop(W1, b1, W2, b2, X)\n",
    "    predictions = get_predictions(A2)\n",
    "    return predictions\n",
    "\n",
    "def test_prediction(index, W1, b1, W2, b2):\n",
    "    current_image = X_train[:, index, None]\n",
    "    prediction = make_predictions(X_train[:, index, None], W1, b1, W2, b2)\n",
    "    label = Y_train[index]\n",
    "    print(\"Prediction: \", prediction)\n",
    "    print(\"Label: \", label)\n",
    "    \n",
    "    current_image = current_image.reshape((28, 28)) * 255\n",
    "    plt.gray()\n",
    "    plt.imshow(current_image, interpolation='nearest')\n",
    "    plt.show()"
   ]
  },
  {
   "cell_type": "code",
   "execution_count": 15,
   "metadata": {},
   "outputs": [
    {
     "name": "stdout",
     "output_type": "stream",
     "text": [
      "Prediction:  [4]\n",
      "Label:  4\n"
     ]
    },
    {
     "data": {
      "image/png": "[encoded data removed]",
      "text/plain": [
       "<Figure size 640x480 with 1 Axes>"
      ]
     },
     "metadata": {},
     "output_type": "display_data"
    },
    {
     "name": "stdout",
     "output_type": "stream",
     "text": [
      "Prediction:  [4]\n",
      "Label:  5\n"
     ]
    },
    {
     "data": {
      "image/png": "[encoded data removed]",
      "text/plain": [
       "<Figure size 640x480 with 1 Axes>"
      ]
     },
     "metadata": {},
     "output_type": "display_data"
    },
    {
     "name": "stdout",
     "output_type": "stream",
     "text": [
      "Prediction:  [9]\n",
      "Label:  9\n"
     ]
    },
    {
     "data": {
      "image/png": "[encoded data removed]",
      "text/plain": [
       "<Figure size 640x480 with 1 Axes>"
      ]
     },
     "metadata": {},
     "output_type": "display_data"
    },
    {
     "name": "stdout",
     "output_type": "stream",
     "text": [
      "Prediction:  [6]\n",
      "Label:  6\n"
     ]
    },
    {
     "data": {
      "image/png": "[encoded data removed]",
      "text/plain": [
       "<Figure size 640x480 with 1 Axes>"
      ]
     },
     "metadata": {},
     "output_type": "display_data"
    }
   ],
   "source": [
    "test_prediction(0, W1, b1, W2, b2)\n",
    "test_prediction(1, W1, b1, W2, b2)\n",
    "test_prediction(2, W1, b1, W2, b2)\n",
    "test_prediction(3, W1, b1, W2, b2)"
   ]
  },
  {
   "cell_type": "code",
   "execution_count": 16,
   "metadata": {},
   "outputs": [
    {
     "name": "stdout",
     "output_type": "stream",
     "text": [
      "[5 6 4 3 6 0 8 8 7 9 0 6 9 7 2 9 8 8 6 8 9 8 7 1 0 2 3 8 6 4 7 1 4 7 2 4 0\n",
      " 8 9 3 3 7 9 8 6 2 9 8 8 1 1 4 4 2 5 9 1 0 0 7 3 0 8 6 3 0 1 9 5 0 0 5 2 6\n",
      " 2 3 7 9 7 1 9 3 1 6 9 6 1 7 6 6 7 6 0 9 8 8 8 8 0 8 9 8 9 8 6 7 4 1 0 2 9\n",
      " 7 9 5 3 6 5 9 2 9 4 1 4 7 7 1 6 7 8 8 1 4 6 5 8 4 5 4 2 9 9 6 2 7 0 2 0 9\n",
      " 3 1 0 5 4 7 9 6 2 3 2 1 9 7 3 2 7 8 8 4 2 2 9 8 6 0 6 1 9 4 3 2 2 9 0 5 1\n",
      " 2 5 6 3 5 4 4 2 8 1 8 5 3 3 9 0 6 6 8 4 7 7 0 4 1 3 9 7 3 1 8 5 3 0 4 9 6\n",
      " 5 2 8 3 7 5 6 4 1 7 0 5 0 2 5 6 5 3 2 9 8 4 8 9 6 0 6 3 3 8 6 6 4 9 4 4 9\n",
      " 9 0 7 7 2 7 0 4 1 2 0 9 9 6 7 4 1 6 2 5 5 8 8 3 2 4 2 4 8 3 5 8 4 6 6 4 4\n",
      " 4 4 1 3 2 1 2 4 7 9 6 6 1 1 4 1 6 8 9 7 6 7 6 8 2 4 8 3 8 0 1 5 8 2 4 0 2\n",
      " 2 3 0 9 8 3 9 7 8 3 7 5 8 6 0 8 5 0 9 9 9 4 5 7 0 1 4 5 9 8 0 7 9 9 4 3 8\n",
      " 2 9 5 3 4 8 7 3 8 0 3 0 6 3 6 8 3 3 3 2 7 8 9 1 2 4 0 0 5 2 6 4 6 1 4 9 5\n",
      " 3 5 2 7 1 3 8 1 3 7 8 7 5 9 7 2 6 8 7 9 3 3 4 2 5 1 0 9 7 9 9 5 9 4 9 3 6\n",
      " 1 3 6 4 2 1 4 9 9 4 5 1 5 7 3 3 0 0 7 9 6 7 4 6 1 7 3 4 1 7 4 7 0 7 9 4 0\n",
      " 9 3 3 4 6 3 2 3 5 7 7 1 7 2 6 0 7 1 8 1 6 6 9 3 1 7 1 8 5 2 1 7 6 1 3 1 6\n",
      " 9 7 0 9 4 7 2 4 0 3 9 1 1 2 2 2 6 4 7 7 2 1 2 7 1 3 8 4 3 5 9 1 7 5 7 8 1\n",
      " 1 5 4 8 7 8 5 9 7 2 1 4 4 9 5 7 3 1 8 0 0 0 1 3 6 1 9 1 1 0 3 8 4 1 1 1 4\n",
      " 5 7 9 3 8 7 6 1 7 1 6 7 8 0 4 4 6 9 6 0 8 5 0 0 3 4 0 5 1 9 3 4 3 3 9 6 1\n",
      " 0 1 4 0 4 2 9 1 6 9 5 6 0 4 9 3 1 0 6 1 1 9 0 9 5 9 0 2 4 6 7 0 1 1 0 6 1\n",
      " 1 1 5 1 2 7 0 8 3 9 4 2 4 3 9 7 7 6 3 9 4 0 2 2 5 4 7 9 3 7 4 2 5 3 9 2 2\n",
      " 1 1 4 4 7 9 9 5 1 5 4 5 2 2 0 5 6 5 6 7 5 3 0 7 4 9 0 6 2 8 0 9 9 1 9 9 6\n",
      " 6 8 9 7 7 8 5 9 9 2 5 0 8 3 4 2 4 6 0 2 7 4 2 1 5 6 9 1 3 5 0 9 1 0 0 2 4\n",
      " 7 3 0 3 4 1 8 7 1 9 9 6 2 9 5 3 5 5 9 1 8 1 0 9 8 7 3 7 2 4 0 5 3 7 6 6 5\n",
      " 8 1 3 1 3 0 8 4 4 5 9 5 0 7 1 0 4 3 6 6 9 8 2 1 7 1 6 4 8 2 8 9 4 2 3 9 6\n",
      " 4 5 9 7 5 6 1 0 6 0 0 3 9 8 5 7 5 1 2 8 6 9 3 2 8 8 2 8 8 6 0 9 4 7 2 6 0\n",
      " 1 6 2 6 9 7 4 6 8 3 0 5 7 1 5 5 8 0 8 6 0 8 9 0 2 9 9 4 9 7 1 7 2 1 2 9 3\n",
      " 2 0 6 9 5 4 3 9 9 1 3 1 1 5 5 6 1 6 6 2 4 3 4 1 8 2 6 1 4 6 5 0 5 7 3 0 9\n",
      " 6 2 0 8 3 7 6 2 4 1 3 6 3 2 5 7 1 3 1 6 4 0 1 2 6 2 7 3 8 9 5 3 7 8 3 1 2\n",
      " 8] [5 8 4 3 6 5 8 8 7 9 0 6 4 7 2 9 8 8 6 3 9 8 7 1 0 2 3 8 6 9 7 1 4 7 2 4 0\n",
      " 8 9 3 3 7 9 5 6 2 9 8 8 1 1 4 4 2 5 4 1 0 0 9 8 0 8 6 8 0 1 9 5 0 0 5 2 4\n",
      " 2 3 7 9 7 1 8 3 1 6 9 6 1 7 2 6 7 6 0 9 8 8 5 8 0 8 9 2 9 8 6 7 4 1 0 2 9\n",
      " 2 4 5 3 8 5 9 2 4 4 1 4 7 7 1 6 7 8 8 1 4 6 3 8 6 5 4 2 4 9 6 2 7 2 2 5 9\n",
      " 3 1 0 5 4 4 9 0 2 5 2 1 9 7 3 5 7 8 8 4 2 2 9 5 6 0 6 1 9 4 3 2 8 9 0 3 1\n",
      " 2 5 2 3 5 4 4 2 8 1 8 5 0 3 4 0 6 6 8 4 7 7 0 4 1 3 9 7 3 1 8 5 8 0 4 2 6\n",
      " 3 9 8 3 7 5 6 4 1 7 0 3 0 3 5 6 5 3 2 9 2 4 8 9 6 0 6 3 3 8 6 6 4 9 0 4 9\n",
      " 9 0 7 7 2 7 0 4 1 2 0 9 3 6 7 4 1 6 1 3 5 8 8 3 2 4 2 2 8 8 8 8 4 6 5 4 4\n",
      " 4 4 1 3 8 1 1 4 7 9 6 6 1 1 4 1 6 5 9 7 6 7 6 8 2 4 3 9 8 0 1 0 8 2 4 0 2\n",
      " 2 3 5 9 8 3 9 7 8 3 9 5 8 6 0 2 5 0 9 9 9 9 5 7 3 5 4 5 9 8 0 7 9 9 4 3 8\n",
      " 2 9 5 0 4 8 7 3 8 0 2 9 6 3 6 8 3 3 3 2 7 8 9 1 2 4 0 0 3 2 2 4 6 1 4 9 5\n",
      " 3 5 1 7 1 3 8 1 3 7 8 7 5 2 7 2 6 8 7 9 3 3 4 2 5 1 0 9 7 9 9 5 9 4 7 1 4\n",
      " 1 3 6 4 2 1 4 9 9 4 5 0 6 7 3 2 0 0 7 9 6 7 4 6 1 7 3 4 1 7 4 7 5 4 9 4 0\n",
      " 9 3 3 4 6 3 3 3 5 7 7 1 7 2 6 0 7 1 8 1 6 6 9 3 1 7 1 8 5 2 1 9 6 1 3 1 6\n",
      " 9 7 0 9 9 7 2 4 0 2 4 1 1 2 2 2 6 4 7 7 2 1 2 7 1 3 8 4 3 5 9 1 7 5 7 8 1\n",
      " 1 5 4 8 9 8 5 9 7 2 1 4 4 9 5 7 3 1 8 0 0 8 1 3 6 8 7 5 1 0 3 3 6 1 1 1 6\n",
      " 5 7 9 3 8 7 6 1 7 1 6 7 8 0 2 4 6 9 6 0 3 5 0 0 3 4 0 5 1 9 3 4 3 3 9 6 1\n",
      " 0 1 4 0 4 2 9 1 6 9 3 6 0 4 7 3 1 0 6 7 1 7 0 9 5 9 0 2 4 6 7 0 1 1 0 6 1\n",
      " 2 1 5 1 8 4 0 8 8 9 4 2 4 3 9 7 7 6 8 9 4 0 5 2 5 9 9 9 2 7 4 2 5 3 9 3 3\n",
      " 1 5 4 4 7 3 7 5 1 5 4 5 2 2 0 5 6 5 6 2 5 3 0 7 4 4 0 6 2 8 0 9 4 1 9 7 6\n",
      " 6 8 9 7 7 8 5 9 9 2 5 0 8 3 4 2 4 6 0 2 7 4 2 1 5 3 7 8 9 5 0 9 1 0 0 3 4\n",
      " 4 3 0 3 4 8 8 7 3 9 9 6 2 9 5 3 3 3 9 1 8 1 0 9 8 7 3 7 2 4 0 8 3 7 6 6 6\n",
      " 8 1 2 9 3 0 8 4 4 5 9 5 0 7 1 0 2 3 6 6 9 8 2 1 7 1 6 4 3 3 8 9 4 2 3 5 5\n",
      " 4 5 4 7 5 6 1 0 2 0 0 3 4 8 5 7 5 1 2 6 6 9 3 2 8 8 2 8 8 4 0 9 4 7 2 6 0\n",
      " 1 6 2 6 9 7 4 6 8 3 0 5 7 1 5 5 8 0 8 6 0 8 9 0 2 9 9 4 8 7 1 7 0 1 2 9 3\n",
      " 2 0 6 9 6 4 3 9 9 1 3 1 1 5 5 6 1 6 6 5 4 3 4 1 9 2 6 1 4 6 5 0 5 7 3 0 4\n",
      " 6 2 0 8 3 7 6 2 4 1 3 6 3 5 5 7 1 3 1 3 4 0 1 2 6 2 7 3 8 9 5 5 7 5 3 1 2\n",
      " 9]\n"
     ]
    },
    {
     "data": {
      "text/plain": [
       "0.852"
      ]
     },
     "execution_count": 16,
     "metadata": {},
     "output_type": "execute_result"
    }
   ],
   "source": [
    "dev_predictions = make_predictions(X_dev, W1, b1, W2, b2)\n",
    "get_accuracy(dev_predictions, Y_dev)"
   ]
  }
 ],
 "metadata": {
  "kernelspec": {
   "display_name": "Python 3",
   "language": "python",
   "name": "python3"
  },
  "language_info": {
   "codemirror_mode": {
    "name": "ipython",
    "version": 3
   },
   "file_extension": ".py",
   "mimetype": "text/x-python",
   "name": "python",
   "nbconvert_exporter": "python",
   "pygments_lexer": "ipython3",
   "version": "3.12.0"
  }
 },
 "nbformat": 4,
 "nbformat_minor": 2
}
